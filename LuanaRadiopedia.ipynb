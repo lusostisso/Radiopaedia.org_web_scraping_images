{
 "cells": [
  {
   "cell_type": "code",
   "execution_count": 3,
   "metadata": {},
   "outputs": [
    {
     "name": "stdout",
     "output_type": "stream",
     "text": [
      "Public Filename: https://prod-images-static.radiopaedia.org/images/64091586/e4e92b1d27f1b3804c87bdcd72ca73d80711236a8b8f4b476f613eb3ca47f30e.png\n",
      "Plane Projection: Frontal\n",
      "------------------------------\n",
      "Public Filename: https://prod-images-static.radiopaedia.org/images/64084373/dee4548415edd56e33ad5101cb51c697a4eaacc17b521b9663febcbc03e9ef2a.png\n",
      "Plane Projection: Lateral\n",
      "------------------------------\n",
      "Public Filename: https://prod-images-static.radiopaedia.org/images/64091587/d8c88dd44fe17ea61b71a3b21d0fa9db9b4bddfb4ddfce5a3a9d9c65a1a7edc7.png\n",
      "Plane Projection: Frontal- zoomed view\n",
      "------------------------------\n",
      "Public Filename: https://prod-images-static.radiopaedia.org/images/64091588/b83954b6279418de5bbdef6d06bc677eb610a7e49cae49cce5d267daa5ae4e56.png\n",
      "Plane Projection: Lateral - zoomed view\n",
      "------------------------------\n"
     ]
    }
   ],
   "source": [
    "import time\n",
    "from selenium import webdriver\n",
    "from selenium.webdriver.common.by import By\n",
    "import json\n",
    "import re\n",
    "\n",
    "options = webdriver.EdgeOptions()\n",
    "driver = webdriver.Edge(options=options)\n",
    "\n",
    "driver.get('https://radiopaedia.org/cases/skull-vault-haemangioma-10?lang=us')\n",
    "\n",
    "time.sleep(5)\n",
    "div_element = driver.find_element(By.CLASS_NAME, 'fa-clickable')\n",
    "div_element.click()\n",
    "\n",
    "time.sleep(5)\n",
    "driver.refresh()\n",
    "\n",
    "# Find the script element directly\n",
    "script_element = driver.find_element(By.XPATH, '//script[contains(text(), \"var stackedImages\")]')\n",
    "\n",
    "# Get the text content of the script element\n",
    "codigo_js = script_element.get_attribute('text')\n",
    "\n",
    "\n",
    "match = re.search(r'var stackedImages = (.*?);', codigo_js)\n",
    "\n",
    "if match:\n",
    "    json_data = match.group(1)\n",
    "\n",
    "    data = json.loads(json_data)\n",
    "    image_info = []\n",
    "\n",
    "    for entry in data:\n",
    "        for image in entry['images']:\n",
    "            info = {\n",
    "                'public_filename': image['public_filename'],\n",
    "                'plane_projection': image['plane_projection']\n",
    "            }\n",
    "            image_info.append(info)\n",
    "\n",
    "\n",
    "    for info in image_info:\n",
    "        print(f\"Public Filename: {info['public_filename']}\")\n",
    "        print(f\"Plane Projection: {info['plane_projection']}\")\n",
    "        print('-' * 30)\n",
    "else:\n",
    "    print(\"Pattern not found.\")"
   ]
  }
 ],
 "metadata": {
  "kernelspec": {
   "display_name": "Python 3",
   "language": "python",
   "name": "python3"
  },
  "language_info": {
   "codemirror_mode": {
    "name": "ipython",
    "version": 3
   },
   "file_extension": ".py",
   "mimetype": "text/x-python",
   "name": "python",
   "nbconvert_exporter": "python",
   "pygments_lexer": "ipython3",
   "version": "3.11.4"
  }
 },
 "nbformat": 4,
 "nbformat_minor": 2
}
